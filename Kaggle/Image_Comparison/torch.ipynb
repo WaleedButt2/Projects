{
 "cells": [
  {
   "cell_type": "code",
   "execution_count": 112,
   "metadata": {},
   "outputs": [],
   "source": [
    "import torch\n",
    "import pandas as pd\n",
    "import os\n",
    "import matplotlib.pyplot as plt\n",
    "import math, re, os\n",
    "import numpy as np\n",
    "import tensorflow as tf"
   ]
  },
  {
   "cell_type": "code",
   "execution_count": 113,
   "metadata": {},
   "outputs": [],
   "source": [
    "df=pd.read_csv('train.csv')\n",
    "test=pd.read_csv('test.csv')\n",
    "y=df.pop('label')\n",
    "y = np.array(y)"
   ]
  },
  {
   "cell_type": "code",
   "execution_count": 114,
   "metadata": {},
   "outputs": [
    {
     "data": {
      "image/png": "[encoded data removed]",
      "text/plain": [
       "<Figure size 640x480 with 2 Axes>"
      ]
     },
     "metadata": {},
     "output_type": "display_data"
    }
   ],
   "source": [
    "X = df.values\n",
    "rand = X[np.random.randint(0,X.shape[0])]\n",
    "numpy_array = np.reshape(rand,(28,28))\n",
    "plt.imshow(numpy_array, cmap='gray')\n",
    "plt.colorbar()\n",
    "plt.show()"
   ]
  },
  {
   "cell_type": "code",
   "execution_count": 115,
   "metadata": {},
   "outputs": [],
   "source": [
    "from sklearn.model_selection import train_test_split\n",
    "X=torch.tensor(X,dtype=torch.float32)\n",
    "y=torch.tensor(y)\n",
    "X_train, X_test, y_train, y_test = train_test_split(X, y, test_size=0.2, random_state=42)"
   ]
  },
  {
   "cell_type": "code",
   "execution_count": 116,
   "metadata": {},
   "outputs": [],
   "source": [
    "# from sklearn.preprocessing import MinMaxScaler\n",
    "# from sklearn.neighbors import KNeighborsClassifier\n",
    "# from sklearn.naive_bayes import GaussianNB\n",
    "# from sklearn.tree import DecisionTreeClassifier\n",
    "# from sklearn.ensemble import RandomForestClassifier\n",
    "# from sklearn.metrics import accuracy_score\n",
    "\n",
    "# import numpy as np\n",
    "# classi=RandomForestClassifier(max_depth=11)\n",
    "# classi.fit(X_train,y_train)\n",
    "# with np.warnings.catch_warnings():\n",
    "#     np.warnings.filterwarnings('ignore', category=FutureWarning)\n",
    "\n",
    "#     # Your code for making predictions and calculating accuracy\n",
    "\n",
    "#     y_test_pred = classi.predict(X_test)\n",
    "#     y_train_pred = classi.predict(X_train)\n",
    "\n",
    "#     # Calculate accuracy\n",
    "#     test_accuracy = accuracy_score(y_test, y_test_pred)\n",
    "#     train_accuracy = accuracy_score(y_train, y_train_pred)\n",
    "\n",
    "    \n",
    "#     print(f'Train Accuracy: {train_accuracy:.4f}')\n",
    "#     print(f'Validation Accuracy: {test_accuracy:.4f}')\n",
    "    \n",
    "# ans=pd.DataFrame({'ImageId': range(1,len(test)+1),'Label':classi.predict(test)}).set_index('ImageId')\n",
    "# ans.to_csv('answer.csv')"
   ]
  },
  {
   "cell_type": "code",
   "execution_count": 117,
   "metadata": {},
   "outputs": [],
   "source": [
    "import torch.nn as nn\n",
    "import torchvision.transforms as transforms\n",
    "class NeuralNetwork(nn.Module):\n",
    "    def __init__(self):\n",
    "        super().__init__()\n",
    "        self.ConvBlock1 = nn.Sequential(\n",
    "            nn.Conv2d(1, 16, kernel_size=3, stride=1, padding=1),\n",
    "            #nn.Dropout(0.5),\n",
    "            nn.Conv2d(16, 32, kernel_size=3, stride=1, padding=1),\n",
    "            #nn.Dropout(0.5),\n",
    "            nn.Conv2d(32, 64, kernel_size=5, stride=2, padding=1),\n",
    "            nn.Dropout(0.5),\n",
    "            nn.Conv2d(64, 128, kernel_size=3, stride=1, padding=1),\n",
    "            #nn.Dropout(0.5),\n",
    "            nn.Conv2d(128, 256, kernel_size=3, stride=1, padding=1),\n",
    "            nn.Dropout(0.5),\n",
    "            nn.Conv2d(256, 128, kernel_size=5, stride=2, padding=1),\n",
    "            #nn.Dropout(0.5),\n",
    "            nn.Conv2d(128, 64, kernel_size=3, stride=1, padding=1),\n",
    "            #nn.Dropout(0.5),\n",
    "            nn.Conv2d(64, 32, kernel_size=3, stride=1, padding=1),\n",
    "            #nn.Dropout(0.5),\n",
    "            nn.Conv2d(32, 32, kernel_size=5, stride=2, padding=1),\n",
    "            nn.Dropout(0.5),\n",
    "        )      \n",
    "        self.fc_block = nn.Sequential(\n",
    "            nn.Linear(128,1028),\n",
    "            nn.Linear(1028,512),\n",
    "            nn.Linear(512,10),\n",
    "        )\n",
    "    def forward(self, x):\n",
    "        x = self.ConvBlock1(x)\n",
    "        x = x.view(x.shape[0], -1)\n",
    "        logits = self.fc_block(x)\n",
    "        return logits\n",
    "            "
   ]
  },
  {
   "cell_type": "code",
   "execution_count": 118,
   "metadata": {},
   "outputs": [],
   "source": [
    "from torch.utils.data import Dataset, DataLoader, TensorDataset\n",
    "data_transforms = transforms.Compose([\n",
    "    transforms.RandomRotation(10),\n",
    "    transforms.RandomAffine(degrees=0, translate=(0.2, 0.2)),\n",
    "    transforms.ToTensor(),\n",
    "    transforms.Normalize((0.1307,), (0.3081,))  # MNIST mean and std\n",
    "])\n",
    "train_dataset = TensorDataset(X_train, y_train)\n",
    "train_dataset.transforms = data_transforms\n",
    "train_loader = DataLoader(train_dataset, batch_size=64, shuffle=True)\n",
    "\n",
    "test_dataset = TensorDataset(X_test, y_test)\n",
    "test_dataset.transforms = data_transforms\n",
    "test_loader = DataLoader(test_dataset, batch_size=64, shuffle=True)\n"
   ]
  },
  {
   "cell_type": "code",
   "execution_count": 119,
   "metadata": {},
   "outputs": [],
   "source": [
    "def Train(train_loader,test_loader,model,device,loss_fn,optimizer):\n",
    "    total_loss = 0.0\n",
    "    correct_predictions = 0\n",
    "    for (X,y) in train_loader:\n",
    "        X = X.view(-1, 1, 28, 28)\n",
    "        X=X.to(device)\n",
    "        y=y.to(device)\n",
    "        logits=model(X)\n",
    "        loss=loss_fn(logits,y)\n",
    "        optimizer.zero_grad()\n",
    "        loss.backward()\n",
    "        optimizer.step()\n",
    "        total_loss += loss.item()\n",
    "        _, predicted_labels = torch.max(logits, 1)\n",
    "        correct_predictions += (predicted_labels == y).sum().item()\n",
    "        X=X.to('cpu')\n",
    "        y=y.to('cpu')\n",
    "    avg_loss = total_loss / len(train_loader.dataset)\n",
    "    accuracy = correct_predictions / len(train_loader.dataset) * 100\n",
    "    print(f\" Loss: {avg_loss:.4f}, Accuracy: {accuracy:.2f}%\")\n",
    "    model.eval()\n",
    "    correct = 0\n",
    "    total = 0\n",
    "    with torch.no_grad():\n",
    "        for X, y in test_loader:\n",
    "            X = X.view(-1, 1, 28, 28)\n",
    "            X = X.to(device)\n",
    "            y = y.to(device)\n",
    "            \n",
    "            logits = model(X)\n",
    "            _, predicted = torch.max(logits.data, 1)\n",
    "            total += y.size(0)\n",
    "            correct += (predicted == y).sum().item()\n",
    "            \n",
    "    accuracy = 100 * correct / total\n",
    "    print(f'Validation accuracy: {accuracy:.2f}%')\n"
   ]
  },
  {
   "cell_type": "code",
   "execution_count": 120,
   "metadata": {},
   "outputs": [
    {
     "name": "stdout",
     "output_type": "stream",
     "text": [
      "Epoch 1/30, Loss: 0.0141, Accuracy: 75.99%\n",
      "Validation accuracy: 84.13%\n",
      "Epoch 2/30, Loss: 0.0078, Accuracy: 85.01%\n",
      "Validation accuracy: 85.20%\n",
      "Epoch 3/30, Loss: 0.0080, Accuracy: 84.94%\n",
      "Validation accuracy: 85.65%\n",
      "Epoch 4/30, Loss: 0.0080, Accuracy: 84.51%\n",
      "Validation accuracy: 85.63%\n",
      "Epoch 5/30, Loss: 0.0076, Accuracy: 85.55%\n",
      "Validation accuracy: 83.86%\n",
      "Epoch 6/30, Loss: 0.0072, Accuracy: 86.57%\n",
      "Validation accuracy: 86.93%\n",
      "Epoch 7/30, Loss: 0.0069, Accuracy: 86.88%\n",
      "Validation accuracy: 86.63%\n",
      "Epoch 8/30, Loss: 0.0067, Accuracy: 87.34%\n",
      "Validation accuracy: 86.24%\n",
      "Epoch 9/30, Loss: 0.0067, Accuracy: 87.51%\n",
      "Validation accuracy: 87.71%\n",
      "Epoch 10/30, Loss: 0.0066, Accuracy: 87.65%\n",
      "Validation accuracy: 86.99%\n",
      "Epoch 11/30, Loss: 0.0066, Accuracy: 87.55%\n",
      "Validation accuracy: 87.82%\n",
      "Epoch 12/30, Loss: 0.0064, Accuracy: 88.03%\n",
      "Validation accuracy: 86.81%\n",
      "Epoch 13/30, Loss: 0.0066, Accuracy: 87.54%\n",
      "Validation accuracy: 87.99%\n",
      "Epoch 14/30, Loss: 0.0062, Accuracy: 88.61%\n",
      "Validation accuracy: 86.74%\n",
      "Epoch 15/30, Loss: 0.0064, Accuracy: 88.06%\n",
      "Validation accuracy: 85.87%\n",
      "Epoch 16/30, Loss: 4508.2917, Accuracy: 29.84%\n",
      "Validation accuracy: 22.93%\n",
      "Epoch 17/30, Loss: 2.4972, Accuracy: 27.77%\n",
      "Validation accuracy: 29.37%\n",
      "Epoch 18/30, Loss: 1.2717, Accuracy: 37.79%\n",
      "Validation accuracy: 49.99%\n",
      "Epoch 19/30, Loss: 0.7679, Accuracy: 46.44%\n",
      "Validation accuracy: 49.58%\n",
      "Epoch 20/30, Loss: 0.5915, Accuracy: 51.12%\n",
      "Validation accuracy: 48.35%\n",
      "Epoch 21/30, Loss: 0.4504, Accuracy: 56.02%\n",
      "Validation accuracy: 61.82%\n",
      "Epoch 22/30, Loss: 0.3350, Accuracy: 61.02%\n",
      "Validation accuracy: 57.38%\n",
      "Epoch 23/30, Loss: 0.2676, Accuracy: 63.86%\n",
      "Validation accuracy: 64.12%\n",
      "Epoch 24/30, Loss: 0.2297, Accuracy: 65.94%\n",
      "Validation accuracy: 71.67%\n",
      "Epoch 25/30, Loss: 0.1806, Accuracy: 68.56%\n",
      "Validation accuracy: 70.81%\n",
      "Epoch 26/30, Loss: 0.1438, Accuracy: 71.14%\n",
      "Validation accuracy: 61.87%\n",
      "Epoch 27/30, Loss: 0.1213, Accuracy: 71.89%\n",
      "Validation accuracy: 74.44%\n",
      "Epoch 28/30, Loss: 0.0901, Accuracy: 75.30%\n",
      "Validation accuracy: 75.96%\n",
      "Epoch 29/30, Loss: 0.0751, Accuracy: 76.14%\n",
      "Validation accuracy: 78.73%\n",
      "Epoch 30/30, Loss: 0.0565, Accuracy: 78.47%\n",
      "Validation accuracy: 77.19%\n"
     ]
    }
   ],
   "source": [
    "model=NeuralNetwork()\n",
    "device = torch.device(\"cuda\" if torch.cuda.is_available() else \"cpu\")\n",
    "model.to(device)\n",
    "epochs=30\n",
    "loss_fn= nn.CrossEntropyLoss()\n",
    "optimizer = torch.optim.Adam(model.parameters(),lr=0.001)\n",
    "for epoch_num in range(epochs):\n",
    "    print(f\"Epoch {epoch_num + 1}/{epochs},\",end='')\n",
    "    Train(train_loader,test_loader, model, device, loss_fn, optimizer)\n",
    "    \n"
   ]
  },
  {
   "cell_type": "code",
   "execution_count": null,
   "metadata": {},
   "outputs": [],
   "source": []
  }
 ],
 "metadata": {
  "kernelspec": {
   "display_name": "Python 3",
   "language": "python",
   "name": "python3"
  },
  "language_info": {
   "codemirror_mode": {
    "name": "ipython",
    "version": 3
   },
   "file_extension": ".py",
   "mimetype": "text/x-python",
   "name": "python",
   "nbconvert_exporter": "python",
   "pygments_lexer": "ipython3",
   "version": "3.8.10"
  },
  "orig_nbformat": 4
 },
 "nbformat": 4,
 "nbformat_minor": 2
}
