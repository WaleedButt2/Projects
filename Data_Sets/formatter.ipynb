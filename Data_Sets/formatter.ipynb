{
 "cells": [
  {
   "cell_type": "code",
   "execution_count": 51,
   "metadata": {},
   "outputs": [],
   "source": [
    "import pandas as pd"
   ]
  },
  {
   "cell_type": "code",
   "execution_count": 52,
   "metadata": {},
   "outputs": [],
   "source": [
    "def length(Histories):\n",
    "    ln=0\n",
    "    for line in Histories:\n",
    "        ln+=len(line)\n",
    "    return ln"
   ]
  },
  {
   "cell_type": "code",
   "execution_count": 53,
   "metadata": {},
   "outputs": [],
   "source": [
    "def Reading_Histroy():\n",
    "    f = open(\"Town_data/Histories.csv\", \"r\")\n",
    "    Names = []\n",
    "    Histories = []\n",
    "    for line in (f.readlines()):\n",
    "        if line=='\\n':\n",
    "            continue\n",
    "        if(line.find(':')!=-1):\n",
    "            Names.append((line).split(':')[0])\n",
    "            continue\n",
    "        Histories.append(line)\n",
    "    prompt =''\n",
    "    for i in range(len(Names)):\n",
    "        prompt+= Names[i] + ' : ' + Histories[i] +'\\n'\n",
    "    return prompt,(Names,Histories)"
   ]
  },
  {
   "cell_type": "code",
   "execution_count": 54,
   "metadata": {},
   "outputs": [],
   "source": [
    "History,(Names,Histories)=Reading_Histroy()\n",
    "History=History.strip()"
   ]
  },
  {
   "cell_type": "code",
   "execution_count": 62,
   "metadata": {},
   "outputs": [
    {
     "data": {
      "text/plain": [
       "0        0\n",
       "1        1\n",
       "2        2\n",
       "3        3\n",
       "4        4\n",
       "      ... \n",
       "585    712\n",
       "586    716\n",
       "587    719\n",
       "588    720\n",
       "589    721\n",
       "Name: Unnamed: 0, Length: 590, dtype: int64"
      ]
     },
     "execution_count": 62,
     "metadata": {},
     "output_type": "execute_result"
    }
   ],
   "source": [
    "df=pd.read_csv('Town_data/finalass.csv')\n",
    "df.pop('Unnamed: 0')"
   ]
  },
  {
   "cell_type": "code",
   "execution_count": 63,
   "metadata": {},
   "outputs": [
    {
     "data": {
      "text/html": [
       "<div>\n",
       "<style scoped>\n",
       "    .dataframe tbody tr th:only-of-type {\n",
       "        vertical-align: middle;\n",
       "    }\n",
       "\n",
       "    .dataframe tbody tr th {\n",
       "        vertical-align: top;\n",
       "    }\n",
       "\n",
       "    .dataframe thead th {\n",
       "        text-align: right;\n",
       "    }\n",
       "</style>\n",
       "<table border=\"1\" class=\"dataframe\">\n",
       "  <thead>\n",
       "    <tr style=\"text-align: right;\">\n",
       "      <th></th>\n",
       "      <th>Prompt</th>\n",
       "      <th>Completion</th>\n",
       "    </tr>\n",
       "  </thead>\n",
       "  <tbody>\n",
       "    <tr>\n",
       "      <th>0</th>\n",
       "      <td>Action: You move past Dutch.</td>\n",
       "      <td>Dutch: Good morning Arthur.{nod}</td>\n",
       "    </tr>\n",
       "    <tr>\n",
       "      <th>1</th>\n",
       "      <td>Action: You walk into Dutch.</td>\n",
       "      <td>You: Dont mind me Dutch.</td>\n",
       "    </tr>\n",
       "    <tr>\n",
       "      <th>2</th>\n",
       "      <td>Action: You stand near Dutch for a while.</td>\n",
       "      <td>Dutch: Can you give me some room here.</td>\n",
       "    </tr>\n",
       "    <tr>\n",
       "      <th>3</th>\n",
       "      <td>Action: You stand near Dutch for a while.</td>\n",
       "      <td>Dutch: Back up a bit will you.{annoyed}</td>\n",
       "    </tr>\n",
       "    <tr>\n",
       "      <th>4</th>\n",
       "      <td>Action: You stand near Dutch for a while.</td>\n",
       "      <td>Dutch: Why are you acting like a fool.{annoyed}</td>\n",
       "    </tr>\n",
       "    <tr>\n",
       "      <th>...</th>\n",
       "      <td>...</td>\n",
       "      <td>...</td>\n",
       "    </tr>\n",
       "    <tr>\n",
       "      <th>585</th>\n",
       "      <td>Action: You walk by Dutch.</td>\n",
       "      <td>Dutch: Good to see you, Arthur.</td>\n",
       "    </tr>\n",
       "    <tr>\n",
       "      <th>586</th>\n",
       "      <td>Action: You accidentally collide with Dutch.</td>\n",
       "      <td>Dutch: Watch where you're going, Arthur!</td>\n",
       "    </tr>\n",
       "    <tr>\n",
       "      <th>587</th>\n",
       "      <td>Action: You stand near Dutch for a while.</td>\n",
       "      <td>Dutch: Can I help you with something, Arthur?</td>\n",
       "    </tr>\n",
       "    <tr>\n",
       "      <th>588</th>\n",
       "      <td>Action: You stand near Dutch for a while.</td>\n",
       "      <td>Dutch: You're making me nervous, Arthur.{annoyed}</td>\n",
       "    </tr>\n",
       "    <tr>\n",
       "      <th>589</th>\n",
       "      <td>Action: You walk by Dutch.</td>\n",
       "      <td>Dutch: Hello there, Arthur.{nod}</td>\n",
       "    </tr>\n",
       "  </tbody>\n",
       "</table>\n",
       "<p>590 rows × 2 columns</p>\n",
       "</div>"
      ],
      "text/plain": [
       "                                           Prompt  \\\n",
       "0                    Action: You move past Dutch.   \n",
       "1                    Action: You walk into Dutch.   \n",
       "2       Action: You stand near Dutch for a while.   \n",
       "3       Action: You stand near Dutch for a while.   \n",
       "4       Action: You stand near Dutch for a while.   \n",
       "..                                            ...   \n",
       "585                    Action: You walk by Dutch.   \n",
       "586  Action: You accidentally collide with Dutch.   \n",
       "587     Action: You stand near Dutch for a while.   \n",
       "588     Action: You stand near Dutch for a while.   \n",
       "589                    Action: You walk by Dutch.   \n",
       "\n",
       "                                            Completion  \n",
       "0                     Dutch: Good morning Arthur.{nod}  \n",
       "1                             You: Dont mind me Dutch.  \n",
       "2               Dutch: Can you give me some room here.  \n",
       "3              Dutch: Back up a bit will you.{annoyed}  \n",
       "4      Dutch: Why are you acting like a fool.{annoyed}  \n",
       "..                                                 ...  \n",
       "585                    Dutch: Good to see you, Arthur.  \n",
       "586           Dutch: Watch where you're going, Arthur!  \n",
       "587      Dutch: Can I help you with something, Arthur?  \n",
       "588  Dutch: You're making me nervous, Arthur.{annoyed}  \n",
       "589                   Dutch: Hello there, Arthur.{nod}  \n",
       "\n",
       "[590 rows x 2 columns]"
      ]
     },
     "execution_count": 63,
     "metadata": {},
     "output_type": "execute_result"
    }
   ],
   "source": [
    "df"
   ]
  },
  {
   "cell_type": "code",
   "execution_count": 64,
   "metadata": {},
   "outputs": [],
   "source": [
    "a=0"
   ]
  },
  {
   "cell_type": "code",
   "execution_count": 75,
   "metadata": {},
   "outputs": [
    {
     "name": "stdout",
     "output_type": "stream",
     "text": [
      "1\n",
      "57\n",
      "58\n",
      "76\n",
      "92\n",
      "557\n",
      "558\n"
     ]
    }
   ],
   "source": [
    "for i in range(len(df)):\n",
    "    c=df.Completion.loc[i].strip()\n",
    "    p=df.Prompt.loc[i].strip()\n",
    "    if(p.find('You')!=-1):\n",
    "        if(c[0]=='Y'):\n",
    "            print(i)"
   ]
  },
  {
   "cell_type": "code",
   "execution_count": 59,
   "metadata": {},
   "outputs": [
    {
     "data": {
      "text/plain": [
       "28"
      ]
     },
     "execution_count": 59,
     "metadata": {},
     "output_type": "execute_result"
    }
   ],
   "source": [
    "a"
   ]
  }
 ],
 "metadata": {
  "kernelspec": {
   "display_name": "Python 3",
   "language": "python",
   "name": "python3"
  },
  "language_info": {
   "codemirror_mode": {
    "name": "ipython",
    "version": 3
   },
   "file_extension": ".py",
   "mimetype": "text/x-python",
   "name": "python",
   "nbconvert_exporter": "python",
   "pygments_lexer": "ipython3",
   "version": "3.8.10"
  },
  "orig_nbformat": 4,
  "vscode": {
   "interpreter": {
    "hash": "916dbcbb3f70747c44a77c7bcd40155683ae19c65e1c03b4aa3499c5328201f1"
   }
  }
 },
 "nbformat": 4,
 "nbformat_minor": 2
}
