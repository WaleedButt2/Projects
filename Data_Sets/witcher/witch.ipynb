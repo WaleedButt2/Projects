{
 "cells": [
  {
   "cell_type": "code",
   "execution_count": 1,
   "metadata": {},
   "outputs": [],
   "source": [
    "import pandas as pd"
   ]
  },
  {
   "cell_type": "code",
   "execution_count": 2,
   "metadata": {},
   "outputs": [],
   "source": [
    "df=pd.read_csv('merged.csv')"
   ]
  },
  {
   "cell_type": "code",
   "execution_count": 6,
   "metadata": {},
   "outputs": [],
   "source": [
    "df['Prompt'] = 'Geralt of Rivia is one such witcher, who was trained and mutated. Witchers are often shunned by society due to their physical mutations and the perception that they are emotionless killers. Despite this, they are still sought after for their expertise in combatting monsters. Novigrad is a bustling city known for its commerce and culture, but also a hub for crime and corruption. The people of Novigrad are diverse and varied, with a mixture of races and backgrounds living and working in the city.  the people of Novigrad are generally pragmatic and opportunistic, with a strong emphasis on self-preservation and survival. Toussaint is a duchy located in the south of the Northern Kingdoms, and it is known for its idyllic countryside, vineyards, and chivalric traditions. The people of Toussaint are generally polite, courtly, and refined, with a strong emphasis on etiquette and manners. the people of Toussaint are generally sophisticated and cultured, with a deep appreciation for the finer things in life, such as art, music, and wine. Skelligers are known for their fierce warrior culture and their love of raiding and pillaging. They are a proud and independent people, with a deep respect for tradition and clan loyalty. The Skelligers also have a strong connection to the sea, and their seafaring skills are legendary. Skelligers are generally straightforward and blunt. They value strength, courage, and honor, and have little patience for weakness or cowardice. They can be brusque and sometimes confrontational.' + df['Prompt']"
   ]
  },
  {
   "cell_type": "code",
   "execution_count": 8,
   "metadata": {},
   "outputs": [],
   "source": [
    "df.to_csv('merged.csv')"
   ]
  }
 ],
 "metadata": {
  "kernelspec": {
   "display_name": "Python 3",
   "language": "python",
   "name": "python3"
  },
  "language_info": {
   "codemirror_mode": {
    "name": "ipython",
    "version": 3
   },
   "file_extension": ".py",
   "mimetype": "text/x-python",
   "name": "python",
   "nbconvert_exporter": "python",
   "pygments_lexer": "ipython3",
   "version": "3.8.10"
  },
  "orig_nbformat": 4
 },
 "nbformat": 4,
 "nbformat_minor": 2
}
