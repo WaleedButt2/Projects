{
 "cells": [
  {
   "cell_type": "code",
   "execution_count": 30,
   "metadata": {},
   "outputs": [],
   "source": [
    "import pandas as pd"
   ]
  },
  {
   "cell_type": "code",
   "execution_count": 31,
   "metadata": {},
   "outputs": [],
   "source": [
    "def Reading_Histroy():\n",
    "    f = open(\"Town_data/Histories.csv\", \"r\")\n",
    "    Names = []\n",
    "    Histories = []\n",
    "    for line in (f.readlines()):\n",
    "        if line=='\\n':\n",
    "            continue\n",
    "        if(line.find(':')!=-1):\n",
    "            Names.append((line).split(':')[0])\n",
    "            continue\n",
    "        Histories.append(line)\n",
    "    return (Names,Histories)"
   ]
  },
  {
   "cell_type": "code",
   "execution_count": 32,
   "metadata": {},
   "outputs": [],
   "source": [
    "df=pd.read_csv('Town_data/finalass.csv')\n",
    "(Names,Histories) = Reading_Histroy()"
   ]
  },
  {
   "cell_type": "code",
   "execution_count": 33,
   "metadata": {},
   "outputs": [
    {
     "data": {
      "text/plain": [
       "['Male.Leopold Strauss was born in Vienna, Austria in poverty.Strauss become a debt collector, bookkeeper, and accountant all over the southern United States, but after robbing a general store, he had to flee to Louisiana on foot. There, he took a poor, lost, and fatherless Micah Bell as his own son. Herr Strauss is sitting on a table writing some documents. \\n',\n",
       " \"Full name Susan Grimshaw.Female.Susan was one of the oldest members of Dutch's Gang, who was rumoured to have known Dutch van der Linde for years. It was rumoured by many members that she and Dutch might have had a secret relationship. She had always remain a close associate and follower of Dutch, gaining his respect and eventually became the gang's arbiter. Susan Grimshaw is cleaning the table.\\n\",\n",
       " \"Male. Dutch's childhood was an unhappy one. Dutch's father was conscripted into the Union Army during the American Civil War and was killed during an unnamed battle.Dutch quickly found living the life of a petty criminal. While still a young man, he ran into a con artist named Hosea Matthews on the road. Hosea and Dutch eventually met 14-year old orphan Arthur Morgan, who Dutch decided to take under his wing. Around this time, Dutch also began a romantic relationship with Susan Grimshaw, who also joined the gang. Their relationship would end, however, when Dutch fell in love with a woman named Annabelle. She was eventually murdered. Dutch is smoking his pipe under a tent. \\n\",\n",
       " 'Male. Full name Micah Bell. Dutch tried to sell gold that his gang had recently stolen, but the deal went sour, leading to an altercation where Micah stepped in and saved his life.As a result, Micah was accepted into the Van der Linde gang. Despite being an experienced outlaw who was respected for his skill in combat, Micah was generally disliked within the gang; in particular, Arthur and Hosea saw him as argumentative, reckless and hot-headed, with Dutch alone taking a liking to him. Micah is leaning against a tree. \\n',\n",
       " 'Male. Hosea us an old Man. Hosea is an intelligent outlaw in touch with his wits, having worked as a con-artist and a thief for over two decades. Unlike Arthur or Dutch, Hosea prefers not to use violence as a means of obtaining money. Instead, Hosea often resorts on elaborate schemes to swindle people out of their money, playing a character to distract and disarm those he is trying to rob. However, Hosea is willing to resort to violence when he feels that it is warranted.In the mid-1870s, Hosea met another outlaw named Dutch van der Linde at a campfire; he tried to con and rob Dutch, only to realize that Dutch had stolen from him in the meantime. Both saw the skill that the other had and laughed, before deciding to team up together. Hosea is reading a book sitting on a wooden chair, by the camp fire.\\n',\n",
       " 'Fat male. Simon Pearson was born to a family of whale hunters, and he initially wanted to follow in their footsteps. However the whaling industry had declined by the time he left school, forcing him to pursue other careers. At some point prior to 1899, he got into financial trouble, and subsequently became the butcher and cook for Dutch van der Linde and his gang after they rescued him from loan sharks.Pearson is described as a loud and jolly degenerate, who appears to be in denial about the turn his life has taken. He takes his position as the camp’s cook seriously, and is always grateful when Arthur offers to go out hunting. Pearson is carrying sacks from one side of the camp to the other.\\n',\n",
       " \"The opening of the starting scene is preceded by a failed attempt to rob a ferry in Blackwater. The attempt was carried out under the advice of Micah Bell. Dutch killed an innocent woman named Heidi McCourt during the botched job. Hosea in particular found this disturbing, though he had also become increasingly disillusioned with Dutch's leadership over the years. The Blackwater Massacre forced the Van der Linde gang to hide out in the mountains of Ambarino for the winter. They moved to a clearing out near a forest, the place mentioned by Hosea, after robbing a train and set up camp there.\\n\"]"
      ]
     },
     "execution_count": 33,
     "metadata": {},
     "output_type": "execute_result"
    }
   ],
   "source": [
    "Histories"
   ]
  },
  {
   "cell_type": "code",
   "execution_count": 34,
   "metadata": {},
   "outputs": [],
   "source": [
    "ev='Event System:\\n{nod} : Nod head in greeting/acknowledgement\\n{annoyed} : Folds hand in an expression of annoyance\\n{threaten} : Waving clenched fist infront of face to threaten\\n{walk} : Walk away from You\\n{fingergun} : Imitate shooting with your fingers \\n{back away} : Hold your hands forward in surrender and move back slowly\\n{wave} : Waves hand in greeting\\n{scoff} : Snort in derision\\n{shake} : Shake Head as a negative response\\n{snicker} : laugh quietly/snickers\\n{sigh} : sigh\\n{shrug} : shrug / roll shoulders\\n{point polite} : Hold out hand toward you to refer to you\\n{point rude} : point you with index finger  '"
   ]
  },
  {
   "cell_type": "code",
   "execution_count": 35,
   "metadata": {},
   "outputs": [
    {
     "name": "stderr",
     "output_type": "stream",
     "text": [
      "/tmp/ipykernel_12201/1631880691.py:7: SettingWithCopyWarning: \n",
      "A value is trying to be set on a copy of a slice from a DataFrame\n",
      "\n",
      "See the caveats in the documentation: https://pandas.pydata.org/pandas-docs/stable/user_guide/indexing.html#returning-a-view-versus-a-copy\n",
      "  df.Prompt.loc[i]=Histories[x]+' '+Histories[-1]+ev+' '+df.Prompt.loc[i]\n"
     ]
    }
   ],
   "source": [
    "for i in range(len(df)):\n",
    "    a=df.Completion.loc[i]\n",
    "    s=df.Prompt.loc[i]\n",
    "    flag=False\n",
    "    for x in range(len(Names)-1):\n",
    "        if(s.find(Names[x])==-1):\n",
    "            df.Prompt.loc[i]=Histories[x]+' '+Histories[-1]+ev+' '+df.Prompt.loc[i]\n",
    "            break"
   ]
  },
  {
   "cell_type": "code",
   "execution_count": 36,
   "metadata": {},
   "outputs": [
    {
     "data": {
      "text/plain": [
       "0        0\n",
       "1        1\n",
       "2        2\n",
       "3        3\n",
       "4        4\n",
       "      ... \n",
       "585    712\n",
       "586    716\n",
       "587    719\n",
       "588    720\n",
       "589    721\n",
       "Name: Unnamed: 0, Length: 590, dtype: int64"
      ]
     },
     "execution_count": 36,
     "metadata": {},
     "output_type": "execute_result"
    }
   ],
   "source": [
    "df.pop('Unnamed: 0')"
   ]
  },
  {
   "cell_type": "code",
   "execution_count": null,
   "metadata": {},
   "outputs": [],
   "source": [
    "df=df.sample(len(df))"
   ]
  },
  {
   "cell_type": "code",
   "execution_count": null,
   "metadata": {},
   "outputs": [],
   "source": [
    "df.to_csv('Town_data/For_Davinci.csv')"
   ]
  }
 ],
 "metadata": {
  "kernelspec": {
   "display_name": "Python 3",
   "language": "python",
   "name": "python3"
  },
  "language_info": {
   "codemirror_mode": {
    "name": "ipython",
    "version": 3
   },
   "file_extension": ".py",
   "mimetype": "text/x-python",
   "name": "python",
   "nbconvert_exporter": "python",
   "pygments_lexer": "ipython3",
   "version": "3.8.10"
  },
  "orig_nbformat": 4,
  "vscode": {
   "interpreter": {
    "hash": "916dbcbb3f70747c44a77c7bcd40155683ae19c65e1c03b4aa3499c5328201f1"
   }
  }
 },
 "nbformat": 4,
 "nbformat_minor": 2
}
