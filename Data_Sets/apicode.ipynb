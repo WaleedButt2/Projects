{
 "cells": [
  {
   "cell_type": "code",
   "execution_count": 6,
   "metadata": {},
   "outputs": [
    {
     "name": "stderr",
     "output_type": "stream",
     "text": [
      "06/07/2023 02:00:30 - INFO - happytransformer.happy_transformer -   Using model: cuda\n"
     ]
    },
    {
     "name": "stdout",
     "output_type": "stream",
     "text": [
      " * Serving Flask app '__main__'\n",
      " * Debug mode: off\n"
     ]
    },
    {
     "name": "stderr",
     "output_type": "stream",
     "text": [
      "Setting `pad_token_id` to `eos_token_id`:50256 for open-end generation.\n"
     ]
    }
   ],
   "source": [
    "from flask import Flask, request, jsonify\n",
    "from happytransformer import HappyGeneration\n",
    "from transformers import GPTNeoForCausalLM\n",
    "app = Flask(__name__)\n",
    "\n",
    "model = GPTNeoForCausalLM.from_pretrained(\"uo\")\n",
    "happy_gen = HappyGeneration(\"GPT-NEO\", \"EleutherAI/gpt-neo-125m\")  # Instantiate with a dummy model\n",
    "happy_gen.model = model\n",
    "\n",
    "@app.route('/generate', methods=['POST'])\n",
    "def generate_text():\n",
    "    data = request.get_json(force=True)\n",
    "    text = data['text']\n",
    "    # Adding start and end\n",
    "    text = f\"*** {text} ***\"\n",
    "    generated_text = happy_gen.generate_text(text)\n",
    "    return jsonify(generated_text)\n",
    "\n",
    "if __name__ == '__main__':\n",
    "    app.run(host='0.0.0.0', port=5000)\n",
    "#curl -X POST -H \"Content-Type: application/json\" -d '{\"text\":\"Hello world\"}' https://c419-2400-adc5-486-d000-4593-aaf2-7cea-70db.ngrok-free.app/generate"
   ]
  }
 ],
 "metadata": {
  "kernelspec": {
   "display_name": "Python 3",
   "language": "python",
   "name": "python3"
  },
  "language_info": {
   "codemirror_mode": {
    "name": "ipython",
    "version": 3
   },
   "file_extension": ".py",
   "mimetype": "text/x-python",
   "name": "python",
   "nbconvert_exporter": "python",
   "pygments_lexer": "ipython3",
   "version": "3.8.10"
  },
  "orig_nbformat": 4
 },
 "nbformat": 4,
 "nbformat_minor": 2
}
