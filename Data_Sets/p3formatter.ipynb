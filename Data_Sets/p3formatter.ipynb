{
 "cells": [
  {
   "cell_type": "code",
   "execution_count": 4,
   "metadata": {},
   "outputs": [],
   "source": [
    "import pandas as pd"
   ]
  },
  {
   "cell_type": "code",
   "execution_count": 7,
   "metadata": {},
   "outputs": [],
   "source": [
    "df=pd.read_csv('persona3/p3dataset.csv')\n",
    "df=df.drop('Unnamed: 0',axis=1)"
   ]
  },
  {
   "cell_type": "code",
   "execution_count": 8,
   "metadata": {},
   "outputs": [
    {
     "name": "stdout",
     "output_type": "stream",
     "text": [
      "Oh... \\n Well, if you're looking for something to do, come talk to me, man. I'll be at my desk. \\n Well, I guess I should go study... \\n NOT! Who needs to study, right? Hahahaha... {nervous}\n",
      "Event System: {sad} : sad expression on face \\n {nervous} : nervous expression on face \\n  : Leveling up of current social link level to the next one.\\nSorry, dude! I'm just really into clothes. \\n Alright, first of all your school uniform should always be clean and pressed...\n",
      "Event System: {sad} : sad expression on face \\n {nervous} : nervous expression on face \\n  : Leveling up of current social link level to the next one.\\nShuji Ikutsuki: How Shadows came into this world is still a mystery. I used to be a researcher for Kirijo Electronics... That is the primary reason why i am the chairman of the board. And that is also twhat makes this dormitory such a convenient location to conduct SEES activites.Oh, you should be also aware that I am unable to summon Personas. However, in order to preform my research, I was taught how to enter the Dark Hour. So, if you need any help, please do not hesitate to ask. Of course, I cannot be of any help. Ahahaha....\n",
      "Yukari: ...Okay. {sad}\n",
      "Junpei: ...Alright. {sad}\n"
     ]
    }
   ],
   "source": [
    "for i in range(len(df)):\n",
    "    if(df.Completion.loc[i].find('{')!=-1):\n",
    "        print(df.Completion.loc[i])"
   ]
  }
 ],
 "metadata": {
  "kernelspec": {
   "display_name": "Python 3",
   "language": "python",
   "name": "python3"
  },
  "language_info": {
   "codemirror_mode": {
    "name": "ipython",
    "version": 3
   },
   "file_extension": ".py",
   "mimetype": "text/x-python",
   "name": "python",
   "nbconvert_exporter": "python",
   "pygments_lexer": "ipython3",
   "version": "3.8.10"
  },
  "orig_nbformat": 4
 },
 "nbformat": 4,
 "nbformat_minor": 2
}
