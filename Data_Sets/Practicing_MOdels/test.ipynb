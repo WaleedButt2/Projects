{
 "cells": [
  {
   "cell_type": "code",
   "execution_count": 1,
   "metadata": {},
   "outputs": [
    {
     "name": "stdout",
     "output_type": "stream",
     "text": [
      "Response: \"Hosea: Hello son.{threaten}\"\n",
      "\n",
      "Elapsed time: 533.3464810848236 seconds\n"
     ]
    }
   ],
   "source": [
    "import requests\n",
    "import time\n",
    "\n",
    "# Define the headers, URL and data\n",
    "headers = {\"Content-Type\": \"application/json\"}\n",
    "url = \"https://dio-36wqtdlx5a-ew.a.run.app/generate\"\n",
    "data = {\"text\": \"Hosea: Hello son\"}\n",
    "\n",
    "# Get the start time\n",
    "start_time = time.time()\n",
    "\n",
    "# Make the POST request\n",
    "response = requests.post(url, headers=headers, json=data)\n",
    "\n",
    "# Get the end time\n",
    "end_time = time.time()\n",
    "\n",
    "# Calculate the elapsed time\n",
    "elapsed_time = end_time - start_time\n",
    "\n",
    "# Print the response and elapsed time\n",
    "print(\"Response:\", response.text)\n",
    "print(\"Elapsed time:\", elapsed_time, \"seconds\")\n"
   ]
  }
 ],
 "metadata": {
  "kernelspec": {
   "display_name": "Python 3",
   "language": "python",
   "name": "python3"
  },
  "language_info": {
   "codemirror_mode": {
    "name": "ipython",
    "version": 3
   },
   "file_extension": ".py",
   "mimetype": "text/x-python",
   "name": "python",
   "nbconvert_exporter": "python",
   "pygments_lexer": "ipython3",
   "version": "3.8.10"
  },
  "orig_nbformat": 4
 },
 "nbformat": 4,
 "nbformat_minor": 2
}
