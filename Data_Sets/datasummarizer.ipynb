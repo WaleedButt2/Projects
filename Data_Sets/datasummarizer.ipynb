{
 "cells": [
  {
   "cell_type": "code",
   "execution_count": 55,
   "metadata": {},
   "outputs": [],
   "source": [
    "import pandas as pd\n",
    "import torch"
   ]
  },
  {
   "cell_type": "code",
   "execution_count": 56,
   "metadata": {},
   "outputs": [],
   "source": [
    "df=pd.read_csv('data.text')"
   ]
  },
  {
   "cell_type": "code",
   "execution_count": null,
   "metadata": {},
   "outputs": [],
   "source": []
  },
  {
   "cell_type": "code",
   "execution_count": 57,
   "metadata": {},
   "outputs": [],
   "source": [
    "from transformers import AutoTokenizer,AutoModelForSeq2SeqLM\n",
    "tokenizer = AutoTokenizer.from_pretrained(\"Vamsi/T5_Paraphrase_Paws\")\n",
    "model = AutoModelForSeq2SeqLM.from_pretrained('Vamsi/T5_Paraphrase_Paws').cuda()"
   ]
  },
  {
   "cell_type": "code",
   "execution_count": 58,
   "metadata": {},
   "outputs": [],
   "source": [
    "Histories = [\n",
    "    'Leopold Strauss was born in Vienna, Austria in poverty.Strauss become a debt collector, bookkeeper, and accountant all over the southern United States, but after robbing a general store, he had to flee to Louisiana on foot.There, he took a poor, lost, and fatherless Micah Bell as his own son. Herr Strauss is sitting on a table writing some documents. ',\n",
    "    'Full name Susan Grimshaw.Female.Susan was one of the oldest members of Dutch\\'s Gang, who was rumoured to have known Dutch van der Linde for years. It was rumoured by many members that she and Dutch might have had a secret relationship. She had always remain a close associate and follower of Dutch, gaining his respect and eventually became the gang\\'s arbiter. Susan Grimshaw is cleaning the table.',\n",
    "    'Male. Dutch\\'s childhood was an unhappy one. Dutch\\'s father was conscripted into the Union Army during the American Civil War and was killed during an unnamed battle.Dutch quickly found living the life of a petty criminal. While still a young man, he ran into a con artist named Hosea Matthews on the road. Hosea and Dutch eventually met 14-year old orphan Arthur Morgan, who Dutch decided to take under his wing. Around this time, Dutch also began a romantic relationship with Susan Grimshaw, who also joined the gang. Their relationship would end, however, when Dutch fell in love with a woman named Annabelle. She was eventually murdered. Dutch is smoking his pipe under a tent. ',\n",
    "    'Male. Full name Micah Bell. Dutch tried to sell gold that his gang had recently stolen, but the deal went sour, leading to an altercation where Micah stepped in and saved his life.As a result, Micah was accepted into the Van der Linde gang. Despite being an experienced outlaw who was respected for his skill in combat, Micah was generally disliked within the gang; in particular, Arthur and Hosea saw him as argumentative, reckless and hot-headed, with Dutch alone taking a liking to him. Micah is leaning against a tree. ',\n",
    "    'Male. Hosea us an old Man. Hosea is an intelligent outlaw in touch with his wits, having worked as a con-artist and a thief for over two decades. Unlike Arthur or Dutch, Hosea prefers not to use violence as a means of obtaining money. Instead, Hosea often resorts on elaborate schemes to swindle people out of their money, playing a character to distract and disarm those he is trying to rob. However, Hosea is willing to resort to violence when he feels that it is warranted.In the mid-1870s, Hosea met another outlaw named Dutch van der Linde at a campfire; he tried to con and rob Dutch, only to realize that Dutch had stolen from him in the meantime. Both saw the skill that the other had and laughed, before deciding to team up together. Hosea is reading a book sitting on a wooden chair, by the camp fire.',\n",
    "    'Fat male. Simon Pearson was born to a family of whale hunters, and he initially wanted to follow in their footsteps. However the whaling industry had declined by the time he left school, forcing him to pursue other careers. At some point prior to 1899, he got into financial trouble, and subsequently became the butcher and cook for Dutch van der Linde and his gang after they rescued him from loan sharks.Pearson is described as a loud and jolly degenerate, who appears to be in denial about the turn his life has taken. He takes his position as the camp’s cook seriously, and is always grateful when Arthur offers to go out hunting. Pearson is carrying sacks from one side of the camp to the other.',\n",
    "    'Male. Arthur is a cold, ruthless and brutal outlaw, who often resorts to threats and violence, and has very few moral qualms about killing. At his worst, Arthur could be completely emotionless and unemphatic to the people he hurts and kills to the greatest displays. Despite being capable of committing such violence, Arthur does have a more playful and joyful side to his personality that comes out around those he is friendly with. He isn\\'t above joking or employing sarcasm amongst his friends. ',\n",
    "    'The start of story is preceded by a failed attempt to rob a ferry in Blackwater. The attempt was carried out under the advice of Micah Bell. Dutch killed an innocent woman named Heidi McCourt during the botched job.Hosea in particular found this disturbing, though he had also become increasingly disillusioned with Dutch\\'s leadership over the years.They moved to a clearing out near a forest, the place mentioned by Hosea, after robbing a train and set up camp there.You are Arthur.'\n",
    "]\n",
    "Names=['Strauss','Susan','Dutch','Micah','Hosea','Pearson','Arthur']"
   ]
  },
  {
   "cell_type": "code",
   "execution_count": 59,
   "metadata": {},
   "outputs": [],
   "source": [
    "Strauss=[]\n",
    "Dutch=[]\n",
    "Pearson=[]\n",
    "Game=[]\n",
    "Susan=[]\n",
    "Hosea=[]\n",
    "Micha=[]\n",
    "Arthur=[]"
   ]
  },
  {
   "cell_type": "code",
   "execution_count": 60,
   "metadata": {},
   "outputs": [
    {
     "data": {
      "text/plain": [
       "'Strauss'"
      ]
     },
     "execution_count": 60,
     "metadata": {},
     "output_type": "execute_result"
    }
   ],
   "source": [
    "ass=0\n",
    "Names[ass]"
   ]
  },
  {
   "cell_type": "code",
   "execution_count": 61,
   "metadata": {},
   "outputs": [],
   "source": [
    "device = torch.device(\"cuda\")"
   ]
  },
  {
   "cell_type": "code",
   "execution_count": 62,
   "metadata": {},
   "outputs": [
    {
     "name": "stderr",
     "output_type": "stream",
     "text": [
      "/home/butt_sahab/.local/lib/python3.8/site-packages/transformers/tokenization_utils_base.py:2354: FutureWarning: The `pad_to_max_length` argument is deprecated and will be removed in a future version, use `padding=True` or `padding='longest'` to pad to the longest sequence in the batch, or use `padding='max_length'` to pad to a max length. In this case, you can give a specific length with `max_length` (e.g. `max_length=45`) or leave max_length to None to pad to the maximal input size of the model (e.g. 512 for Bert).\n",
      "  warnings.warn(\n"
     ]
    }
   ],
   "source": [
    "encoding = tokenizer.encode_plus(Histories[ass], pad_to_max_length=True, return_tensors=\"pt\")\n",
    "input_ids, attention_masks = encoding[\"input_ids\"].to(device), encoding[\"attention_mask\"].to(device)\n",
    "\n",
    "outputs = model.generate(\n",
    "    input_ids=input_ids,\n",
    "    attention_mask=attention_masks,\n",
    "    max_length=350,\n",
    "    do_sample=True,\n",
    "    top_k=120,\n",
    "    top_p=0.95,\n",
    "    early_stopping=False,\n",
    "    num_return_sequences=100\n",
    ")\n",
    "torch.cuda.empty_cache()\n",
    "for output in outputs:\n",
    "    line = tokenizer.decode(output, skip_special_tokens=True, clean_up_tokenization_spaces=True)\n",
    "    if(Names[ass] in line):\n",
    "        Strauss.append(line)\n",
    "ass+=1\n",
    "encoding = tokenizer.encode_plus(Histories[ass], pad_to_max_length=True, return_tensors=\"pt\")\n",
    "input_ids, attention_masks = encoding[\"input_ids\"].to(device), encoding[\"attention_mask\"].to(device)\n",
    "\n",
    "outputs = model.generate(\n",
    "    input_ids=input_ids,\n",
    "    attention_mask=attention_masks,\n",
    "    max_length=350,\n",
    "    do_sample=True,\n",
    "    top_k=120,\n",
    "    top_p=0.95,\n",
    "    early_stopping=False,\n",
    "    num_return_sequences=100\n",
    ")\n",
    "torch.cuda.empty_cache()\n",
    "for output in outputs:\n",
    "    line = tokenizer.decode(output, skip_special_tokens=True, clean_up_tokenization_spaces=True)\n",
    "    if(Names[ass] in line):\n",
    "        Susan.append(line)\n",
    "ass+=1\n",
    "encoding = tokenizer.encode_plus(Histories[ass], pad_to_max_length=True, return_tensors=\"pt\")\n",
    "input_ids, attention_masks = encoding[\"input_ids\"].to(device), encoding[\"attention_mask\"].to(device)\n",
    "\n",
    "outputs = model.generate(\n",
    "    input_ids=input_ids,\n",
    "    attention_mask=attention_masks,\n",
    "    max_length=350,\n",
    "    do_sample=True,\n",
    "    top_k=120,\n",
    "    top_p=0.95,\n",
    "    early_stopping=False,\n",
    "    num_return_sequences=100\n",
    ")\n",
    "torch.cuda.empty_cache()\n",
    "for output in outputs:\n",
    "    line = tokenizer.decode(output, skip_special_tokens=True, clean_up_tokenization_spaces=True)\n",
    "    if(Names[ass] in line):\n",
    "        Dutch.append(line)\n",
    "ass+=1\n",
    "encoding = tokenizer.encode_plus(Histories[ass], pad_to_max_length=True, return_tensors=\"pt\")\n",
    "input_ids, attention_masks = encoding[\"input_ids\"].to(device), encoding[\"attention_mask\"].to(device)\n",
    "\n",
    "outputs = model.generate(\n",
    "    input_ids=input_ids,\n",
    "    attention_mask=attention_masks,\n",
    "    max_length=350,\n",
    "    do_sample=True,\n",
    "    top_k=120,\n",
    "    top_p=0.95,\n",
    "    early_stopping=False,\n",
    "    num_return_sequences=100\n",
    ")\n",
    "torch.cuda.empty_cache()\n",
    "for output in outputs:\n",
    "    line = tokenizer.decode(output, skip_special_tokens=True, clean_up_tokenization_spaces=True)\n",
    "    if(Names[ass] in line):\n",
    "        Micha.append(line)\n",
    "ass+=1\n",
    "encoding = tokenizer.encode_plus(Histories[ass], pad_to_max_length=True, return_tensors=\"pt\")\n",
    "input_ids, attention_masks = encoding[\"input_ids\"].to(device), encoding[\"attention_mask\"].to(device)\n",
    "\n",
    "outputs = model.generate(\n",
    "    input_ids=input_ids,\n",
    "    attention_mask=attention_masks,\n",
    "    max_length=350,\n",
    "    do_sample=True,\n",
    "    top_k=120,\n",
    "    top_p=0.95,\n",
    "    early_stopping=False,\n",
    "    num_return_sequences=100\n",
    ")\n",
    "torch.cuda.empty_cache()\n",
    "for output in outputs:\n",
    "    line = tokenizer.decode(output, skip_special_tokens=True, clean_up_tokenization_spaces=True)\n",
    "    if(Names[ass] in line):\n",
    "        Hosea.append(line)\n",
    "ass+=1\n",
    "\n",
    "encoding = tokenizer.encode_plus(Histories[ass], pad_to_max_length=True, return_tensors=\"pt\")\n",
    "input_ids, attention_masks = encoding[\"input_ids\"].to(device), encoding[\"attention_mask\"].to(device)\n",
    "\n",
    "outputs = model.generate(\n",
    "    input_ids=input_ids,\n",
    "    attention_mask=attention_masks,\n",
    "    max_length=350,\n",
    "    do_sample=True,\n",
    "    top_k=120,\n",
    "    top_p=0.95,\n",
    "    early_stopping=False,\n",
    "    num_return_sequences=100\n",
    ")\n",
    "torch.cuda.empty_cache()\n",
    "for output in outputs:\n",
    "    line = tokenizer.decode(output, skip_special_tokens=True, clean_up_tokenization_spaces=True)\n",
    "    if(Names[ass] in line):\n",
    "        Pearson.append(line)\n",
    "ass+=1\n",
    "\n",
    "encoding = tokenizer.encode_plus(Histories[ass], pad_to_max_length=True, return_tensors=\"pt\")\n",
    "input_ids, attention_masks = encoding[\"input_ids\"].to(device), encoding[\"attention_mask\"].to(device)\n",
    "\n",
    "outputs = model.generate(\n",
    "    input_ids=input_ids,\n",
    "    attention_mask=attention_masks,\n",
    "    max_length=350,\n",
    "    do_sample=True,\n",
    "    top_k=120,\n",
    "    top_p=0.95,\n",
    "    early_stopping=False,\n",
    "    num_return_sequences=100\n",
    ")\n",
    "torch.cuda.empty_cache()\n",
    "for output in outputs:\n",
    "    line = tokenizer.decode(output, skip_special_tokens=True, clean_up_tokenization_spaces=True)\n",
    "    if 'Arthur' in line:\n",
    "        Arthur.append(line)\n",
    "ass+=1\n",
    "\n",
    "encoding = tokenizer.encode_plus(Histories[ass], pad_to_max_length=True, return_tensors=\"pt\")\n",
    "input_ids, attention_masks = encoding[\"input_ids\"].to(device), encoding[\"attention_mask\"].to(device)\n",
    "\n",
    "outputs = model.generate(\n",
    "    input_ids=input_ids,\n",
    "    attention_mask=attention_masks,\n",
    "    max_length=350,\n",
    "    do_sample=True,\n",
    "    top_k=120,\n",
    "    top_p=0.95,\n",
    "    early_stopping=False,\n",
    "    num_return_sequences=100\n",
    ")\n",
    "torch.cuda.empty_cache()\n",
    "for output in outputs:\n",
    "    line = tokenizer.decode(output, skip_special_tokens=True, clean_up_tokenization_spaces=True)\n",
    "    Game.append(line)\n",
    "ass+=1"
   ]
  },
  {
   "cell_type": "code",
   "execution_count": 63,
   "metadata": {},
   "outputs": [],
   "source": [
    "Histories = [\n",
    "    'Leopold Strauss was born in Vienna, Austria in poverty.Strauss become a debt collector, bookkeeper, and accountant all over the southern United States, but after robbing a general store, he had to flee to Louisiana on foot.There, he took a poor, lost, and fatherless Micah Bell as his own son. Herr Strauss is sitting on a table writing some documents. ',\n",
    "    'Full name Susan Grimshaw.Female.Susan was one of the oldest members of Dutch\\'s Gang, who was rumoured to have known Dutch van der Linde for years. It was rumoured by many members that she and Dutch might have had a secret relationship. She had always remain a close associate and follower of Dutch, gaining his respect and eventually became the gang\\'s arbiter. Susan Grimshaw is cleaning the table.',\n",
    "    'Male. Dutch\\'s childhood was an unhappy one. Dutch\\'s father was conscripted into the Union Army during the American Civil War and was killed during an unnamed battle.Dutch quickly found living the life of a petty criminal. While still a young man, he ran into a con artist named Hosea Matthews on the road. Hosea and Dutch eventually met 14-year old orphan Arthur Morgan, who Dutch decided to take under his wing. Around this time, Dutch also began a romantic relationship with Susan Grimshaw, who also joined the gang. Their relationship would end, however, when Dutch fell in love with a woman named Annabelle. She was eventually murdered. Dutch is smoking his pipe under a tent. ',\n",
    "    'Male. Full name Micah Bell. Dutch tried to sell gold that his gang had recently stolen, but the deal went sour, leading to an altercation where Micah stepped in and saved his life.As a result, Micah was accepted into the Van der Linde gang. Despite being an experienced outlaw who was respected for his skill in combat, Micah was generally disliked within the gang; in particular, Arthur and Hosea saw him as argumentative, reckless and hot-headed, with Dutch alone taking a liking to him. Micah is leaning against a tree. ',\n",
    "    'Male. Hosea us an old Man. Hosea is an intelligent outlaw in touch with his wits, having worked as a con-artist and a thief for over two decades. Unlike Arthur or Dutch, Hosea prefers not to use violence as a means of obtaining money. Instead, Hosea often resorts on elaborate schemes to swindle people out of their money, playing a character to distract and disarm those he is trying to rob. However, Hosea is willing to resort to violence when he feels that it is warranted.In the mid-1870s, Hosea met another outlaw named Dutch van der Linde at a campfire; he tried to con and rob Dutch, only to realize that Dutch had stolen from him in the meantime. Both saw the skill that the other had and laughed, before deciding to team up together. Hosea is reading a book sitting on a wooden chair, by the camp fire.',\n",
    "    'Fat male. Simon Pearson was born to a family of whale hunters, and he initially wanted to follow in their footsteps. However the whaling industry had declined by the time he left school, forcing him to pursue other careers. At some point prior to 1899, he got into financial trouble, and subsequently became the butcher and cook for Dutch van der Linde and his gang after they rescued him from loan sharks.Pearson is described as a loud and jolly degenerate, who appears to be in denial about the turn his life has taken. He takes his position as the camp’s cook seriously, and is always grateful when Arthur offers to go out hunting. Pearson is carrying sacks from one side of the camp to the other.',\n",
    "    'Male. Arthur is a cold, ruthless and brutal outlaw, who often resorts to threats and violence, and has very few moral qualms about killing. At his worst, Arthur could be completely emotionless and unemphatic to the people he hurts and kills to the greatest displays. Despite being capable of committing such violence, Arthur does have a more playful and joyful side to his personality that comes out around those he is friendly with. He isn\\'t above joking or employing sarcasm amongst his friends. ',\n",
    "    'The start of story is preceded by a failed attempt to rob a ferry in Blackwater. The attempt was carried out under the advice of Micah Bell. Dutch killed an innocent woman named Heidi McCourt during the botched job.Hosea in particular found this disturbing, though he had also become increasingly disillusioned with Dutch\\'s leadership over the years.They moved to a clearing out near a forest, the place mentioned by Hosea, after robbing a train and set up camp there.You are Arthur. '\n",
    "]\n",
    "Names=['Strauss','Susan','Dutch','Micah','Hosea','Pearson','Arthur']\n",
    "Totalisty= [Strauss,Susan,Dutch,Micha,Hosea,Pearson,Arthur,Game]"
   ]
  },
  {
   "cell_type": "code",
   "execution_count": 64,
   "metadata": {},
   "outputs": [],
   "source": [
    "import random"
   ]
  },
  {
   "cell_type": "code",
   "execution_count": 65,
   "metadata": {},
   "outputs": [],
   "source": [
    "Added=[]\n",
    "Flag=False\n",
    "for i in range(len(df)):\n",
    "    sent=df.text.loc[i]\n",
    "    toadd=\"\"\n",
    "    for x in range(len(Names)- 1):\n",
    "        if Names[x] in sent:\n",
    "            toadd+=random.choice(Totalisty[x])\n",
    "    toadd+=random.choice(Totalisty[-2])\n",
    "    toadd+=random.choice(Totalisty[-1])\n",
    "    Added.append(toadd)"
   ]
  },
  {
   "cell_type": "code",
   "execution_count": 66,
   "metadata": {},
   "outputs": [],
   "source": [
    "df.text=(Added+df.text)"
   ]
  },
  {
   "cell_type": "code",
   "execution_count": 67,
   "metadata": {},
   "outputs": [],
   "source": [
    "df.to_csv('data.text',index=False)"
   ]
  }
 ],
 "metadata": {
  "kernelspec": {
   "display_name": "Python 3",
   "language": "python",
   "name": "python3"
  },
  "language_info": {
   "codemirror_mode": {
    "name": "ipython",
    "version": 3
   },
   "file_extension": ".py",
   "mimetype": "text/x-python",
   "name": "python",
   "nbconvert_exporter": "python",
   "pygments_lexer": "ipython3",
   "version": "3.8.10"
  },
  "orig_nbformat": 4
 },
 "nbformat": 4,
 "nbformat_minor": 2
}
