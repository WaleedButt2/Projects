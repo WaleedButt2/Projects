{
 "cells": [
  {
   "cell_type": "code",
   "execution_count": 2,
   "metadata": {},
   "outputs": [],
   "source": [
    "import pandas as pd"
   ]
  },
  {
   "cell_type": "code",
   "execution_count": 3,
   "metadata": {},
   "outputs": [
    {
     "data": {
      "text/plain": [
       "(0        0\n",
       " 1        1\n",
       " 2        2\n",
       " 3        3\n",
       " 4        4\n",
       "       ... \n",
       " 487    487\n",
       " 488    488\n",
       " 489    489\n",
       " 490    490\n",
       " 491    491\n",
       " Name: Unnamed: 0, Length: 492, dtype: int64,\n",
       " 0      535\n",
       " 1      153\n",
       " 2       58\n",
       " 3      110\n",
       " 4      532\n",
       "       ... \n",
       " 585     24\n",
       " 586    383\n",
       " 587    266\n",
       " 588    155\n",
       " 589      4\n",
       " Name: Unnamed: 0, Length: 590, dtype: int64)"
      ]
     },
     "execution_count": 3,
     "metadata": {},
     "output_type": "execute_result"
    }
   ],
   "source": [
    "r=pd.read_csv('Town_data/For_Davinci.csv')\n",
    "p=pd.read_csv('witcher/merged.csv')\n",
    "p.pop('Unnamed: 0'),r.pop('Unnamed: 0')"
   ]
  },
  {
   "cell_type": "code",
   "execution_count": null,
   "metadata": {},
   "outputs": [],
   "source": [
    "ass=pd.concat([p,r])\n",
    "ass.sample(len(ass)).to_csv('Combinewitch_rdr.csv')"
   ]
  }
 ],
 "metadata": {
  "kernelspec": {
   "display_name": "Python 3",
   "language": "python",
   "name": "python3"
  },
  "language_info": {
   "codemirror_mode": {
    "name": "ipython",
    "version": 3
   },
   "file_extension": ".py",
   "mimetype": "text/x-python",
   "name": "python",
   "nbconvert_exporter": "python",
   "pygments_lexer": "ipython3",
   "version": "3.8.10"
  },
  "orig_nbformat": 4,
  "vscode": {
   "interpreter": {
    "hash": "916dbcbb3f70747c44a77c7bcd40155683ae19c65e1c03b4aa3499c5328201f1"
   }
  }
 },
 "nbformat": 4,
 "nbformat_minor": 2
}
