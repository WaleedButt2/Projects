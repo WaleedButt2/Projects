{
 "cells": [
  {
   "cell_type": "code",
   "execution_count": 1,
   "metadata": {},
   "outputs": [
    {
     "name": "stdout",
     "output_type": "stream",
     "text": [
      "\n",
      "Converting  Miles Davis - In A Silent Way (2013) [FLAC 24-176] \n",
      "\n"
     ]
    },
    {
     "name": "stdout",
     "output_type": "stream",
     "text": [
      "\n",
      "Converting  Miles Davis - Miles in the Sky (2019) [FLAC 24-192] \n",
      "\n",
      "\n",
      "\n",
      "\n"
     ]
    }
   ],
   "source": [
    "from pydub import AudioSegment\n",
    "from pydub.utils import mediainfo\n",
    "from fastprogress import progress_bar\n",
    "\n",
    "import os\n",
    "import glob\n",
    "from pathlib import Path\n",
    "from concurrent.futures.process import ProcessPoolExecutor\n",
    "import concurrent\n",
    "\n",
    "def parallel(func, arr, max_workers):\n",
    "    \"\"\"\n",
    "    Call `func` on every element of `arr` in parallel using `max_workers`.\n",
    "    Adapted from fastai. Thanks!\n",
    "    \"\"\"\n",
    "    if max_workers<2: _ = [func(o,i) for i,o in enumerate(arr)]\n",
    "    else:\n",
    "        with ProcessPoolExecutor(max_workers=max_workers) as ex:\n",
    "            futures = [ex.submit(func,o,i) for i,o in enumerate(arr)]\n",
    "            for f in progress_bar(concurrent.futures.as_completed(futures), total=len(arr)): pass\n",
    "\n",
    "def proc_vid(v, i):\n",
    "    video, pth_to, pth = v\n",
    "    mp3_filename = pth_to/video.parent.relative_to(pth)/(video.stem + '.mp3')\n",
    "    os.makedirs(mp3_filename.parent, exist_ok=True)\n",
    "    cover_dir = None\n",
    "    # Try to discover a cover image in the current album's folder\n",
    "    # by looking for generic filenames.\n",
    "    if os.path.isfile(video.parent/'cover.jpg'):\n",
    "        cover_dir = video.parent/'cover.jpg'\n",
    "    elif os.path.isfile(video.parent/'cover.png'):\n",
    "        cover_dir = video.parent/'cover.jpg'\n",
    "    elif os.path.isfile(video.parent/'Cover.jpg'):\n",
    "        cover_dir = video.parent/'Cover.jpg'\n",
    "    elif os.path.isfile(video.parent/'Cover.png'):\n",
    "        cover_dir = video.parent/'Cover.png'\n",
    "    elif os.path.isfile(video.parents[1]/'cover.jpg'):\n",
    "        cover_dir = video.parents[1]/'cover.jpg'\n",
    "    elif os.path.isfile(video.parents[1]/'cover.png'):\n",
    "        cover_dir = video.parents[1]/'cover.jpg'\n",
    "    elif os.path.isfile(video.parents[1]/'Cover.jpg'):\n",
    "        cover_dir = video.parents[1]/'Cover.jpg'\n",
    "    elif os.path.isfile(video.parents[1]/'Cover.png'):\n",
    "        cover_dir = video.parents[1]/'Cover.png'\n",
    "\n",
    "    k = AudioSegment.from_file(video, format='flac')\n",
    "    if cover_dir is not None:\n",
    "        k.export(str(mp3_filename), format='mp3', tags=mediainfo(str(video)).get('TAG', {}), cover=str(cover_dir))\n",
    "    else:\n",
    "        k.export(str(mp3_filename), format='mp3', tags=mediainfo(str(video)).get('TAG', {}))\n",
    "\n",
    "def convert():\n",
    "    folder_with_albums = './Music2/'  # Path with folders of flac files\n",
    "    extension_list = ('**/*.flac',)\n",
    "\n",
    "    dirs = os.listdir(folder_with_albums)\n",
    "\n",
    "    for ost in dirs:\n",
    "        if ost.endswith('-mp3'): continue\n",
    "        print(\"\\nConverting \", ost, '\\n')\n",
    "        pth = Path(folder_with_albums)/ost\n",
    "        \n",
    "        i = 0\n",
    "        pth_to = Path(pth.name + '-mp3')\n",
    "        os.makedirs(pth_to, exist_ok=True)\n",
    "\n",
    "        for extension in extension_list:\n",
    "            videos = [(f, pth_to, pth) for f in pth.glob(extension)]\n",
    "            if len(videos) > 0:\n",
    "  \n",
    "                parallel(proc_vid, videos, max_workers=os.cpu_count())\n",
    "                break\n",
    "\n",
    "    print('\\n\\n')\n",
    "\n",
    "if __name__ == \"__main__\":\n",
    "    convert()"
   ]
  }
 ],
 "metadata": {
  "kernelspec": {
   "display_name": "Python 3",
   "language": "python",
   "name": "python3"
  },
  "language_info": {
   "codemirror_mode": {
    "name": "ipython",
    "version": 3
   },
   "file_extension": ".py",
   "mimetype": "text/x-python",
   "name": "python",
   "nbconvert_exporter": "python",
   "pygments_lexer": "ipython3",
   "version": "3.8.10"
  },
  "orig_nbformat": 4
 },
 "nbformat": 4,
 "nbformat_minor": 2
}
